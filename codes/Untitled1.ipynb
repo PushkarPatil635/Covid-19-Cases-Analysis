{
 "cells": [
  {
   "cell_type": "code",
   "execution_count": 2,
   "id": "c7df31e6-3122-426d-aff1-69151616cc39",
   "metadata": {},
   "outputs": [
    {
     "name": "stdout",
     "output_type": "stream",
     "text": [
      "[1, 4, 9, 16, 25, 36, 49, 64, 81, 100]\n"
     ]
    }
   ],
   "source": [
    "list_of_numbers = [1,2,3,4,5,6,7,8,9,10]\n",
    "\n",
    "squared_list = []\n",
    "for numbers in list_of_numbers:\n",
    "    squared_list.append(numbers**2)\n",
    "print(squared_list)"
   ]
  },
  {
   "cell_type": "code",
   "execution_count": 5,
   "id": "661c171f-0d8e-4230-bd28-05b2ede28456",
   "metadata": {},
   "outputs": [
    {
     "name": "stdout",
     "output_type": "stream",
     "text": [
      "[1, 9, 25, 49, 81]\n"
     ]
    }
   ],
   "source": [
    "odd_number_list = []\n",
    "for odd in squared_list:\n",
    "    if odd % 2 != 0:\n",
    "        odd_number_list.append(odd)\n",
    "print(odd_number_list)"
   ]
  },
  {
   "cell_type": "code",
   "execution_count": null,
   "id": "9eb68bad-670d-4e0f-9a4b-7cd3df73c44d",
   "metadata": {},
   "outputs": [],
   "source": []
  }
 ],
 "metadata": {
  "kernelspec": {
   "display_name": "Python 3 (ipykernel)",
   "language": "python",
   "name": "python3"
  },
  "language_info": {
   "codemirror_mode": {
    "name": "ipython",
    "version": 3
   },
   "file_extension": ".py",
   "mimetype": "text/x-python",
   "name": "python",
   "nbconvert_exporter": "python",
   "pygments_lexer": "ipython3",
   "version": "3.13.3"
  }
 },
 "nbformat": 4,
 "nbformat_minor": 5
}
